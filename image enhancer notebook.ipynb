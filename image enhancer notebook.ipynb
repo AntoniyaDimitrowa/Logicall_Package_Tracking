{
 "cells": [
  {
   "cell_type": "code",
   "execution_count": 1,
   "id": "91628d9c",
   "metadata": {},
   "outputs": [],
   "source": [
    "import cv2"
   ]
  },
  {
   "cell_type": "code",
   "execution_count": 3,
   "id": "4e1ad19b",
   "metadata": {},
   "outputs": [
    {
     "data": {
      "text/plain": [
       "True"
      ]
     },
     "execution_count": 3,
     "metadata": {},
     "output_type": "execute_result"
    }
   ],
   "source": [
    "# Load image\n",
    "img = cv2.imread(\"C:/Users/migue/OneDrive/Ambiente de Trabalho/SEMESTER 4 - AI/Group Project/IMAGES TO TEST SHARPNESS/IMAGE3.jpg\")\n",
    "\n",
    "# Convert to grayscale\n",
    "gray = cv2.cvtColor(img, cv2.COLOR_BGR2GRAY)\n",
    "\n",
    "# Increase contrast using Histogram Equalization\n",
    "equalized = cv2.equalizeHist(gray)\n",
    "\n",
    "# Apply a sharpening kernel\n",
    "kernel = cv2.getStructuringElement(cv2.MORPH_RECT, (3,3))\n",
    "sharp = cv2.filter2D(equalized, -1, kernel)\n",
    "\n",
    "# Save the result\n",
    "cv2.imwrite(\"C:/Users/migue/OneDrive/Ambiente de Trabalho/SEMESTER 4 - AI/Group Project/IMAGES TO TEST SHARPNESS/IMAGE3_ENHANCED.jpg\", sharp)"
   ]
  },
  {
   "cell_type": "markdown",
   "id": "01df257c",
   "metadata": {},
   "source": [
    "# ✅Good Model to Upscale"
   ]
  },
  {
   "cell_type": "markdown",
   "id": "dfd8ff81",
   "metadata": {},
   "source": [
    "Model name is Upscayl"
   ]
  },
  {
   "cell_type": "code",
   "execution_count": 11,
   "id": "537ee28d",
   "metadata": {},
   "outputs": [
    {
     "data": {
      "text/plain": [
       "True"
      ]
     },
     "execution_count": 11,
     "metadata": {},
     "output_type": "execute_result"
    }
   ],
   "source": [
    "import cv2\n",
    "\n",
    "img = cv2.imread(\"C:/Users/migue/OneDrive/Ambiente de Trabalho/SEMESTER 4 - AI/Group Project/IMAGES TO TEST SHARPNESS/IMAGE3_upscayl_5x_upscayl-lite-4x.png\")\n",
    "gray = cv2.cvtColor(img, cv2.COLOR_BGR2GRAY)\n",
    "equalized = cv2.equalizeHist(gray)\n",
    "cv2.imwrite(\"C:/Users/migue/OneDrive/Ambiente de Trabalho/SEMESTER 4 - AI/Group Project/IMAGES TO TEST SHARPNESS/IMAGE3_upscayl_upscaled.png\", equalized)\n",
    "\n"
   ]
  },
  {
   "cell_type": "markdown",
   "id": "fd228491",
   "metadata": {},
   "source": [
    "## Testing"
   ]
  },
  {
   "cell_type": "code",
   "execution_count": 12,
   "id": "630dd7ed",
   "metadata": {},
   "outputs": [
    {
     "name": "stdout",
     "output_type": "stream",
     "text": [
      "✅ Processed: IMAGE1.jpg → C:/Users/migue/OneDrive/Ambiente de Trabalho/SEMESTER 4 - AI/Group Project/UPSCAYL/Preprocessed\\IMAGE1_upscaled.jpg\n",
      "✅ Processed: IMAGE2.jpg → C:/Users/migue/OneDrive/Ambiente de Trabalho/SEMESTER 4 - AI/Group Project/UPSCAYL/Preprocessed\\IMAGE2_upscaled.jpg\n",
      "✅ Processed: IMAGE3.jpg → C:/Users/migue/OneDrive/Ambiente de Trabalho/SEMESTER 4 - AI/Group Project/UPSCAYL/Preprocessed\\IMAGE3_upscaled.jpg\n",
      "✅ Processed: IMAGE4.jpg → C:/Users/migue/OneDrive/Ambiente de Trabalho/SEMESTER 4 - AI/Group Project/UPSCAYL/Preprocessed\\IMAGE4_upscaled.jpg\n"
     ]
    }
   ],
   "source": [
    "import cv2\n",
    "import os\n",
    "\n",
    "# Set your folder with original barcode images\n",
    "input_folder = \"C:/Users/migue/OneDrive/Ambiente de Trabalho/SEMESTER 4 - AI/Group Project/UPSCAYL/Barcodes\"        # Change this to your folder name\n",
    "output_folder = \"C:/Users/migue/OneDrive/Ambiente de Trabalho/SEMESTER 4 - AI/Group Project/UPSCAYL/Preprocessed\"   # Folder where processed images will be saved\n",
    "\n",
    "# Create output folder if it doesn't exist\n",
    "os.makedirs(output_folder, exist_ok=True)\n",
    "\n",
    "# Supported image types\n",
    "valid_extensions = [\".jpg\", \".jpeg\", \".png\", \".bmp\"]\n",
    "\n",
    "# Loop through all files\n",
    "for filename in os.listdir(input_folder):\n",
    "    if any(filename.lower().endswith(ext) for ext in valid_extensions):\n",
    "        img_path = os.path.join(input_folder, filename)\n",
    "        img = cv2.imread(img_path)\n",
    "        \n",
    "        if img is None:\n",
    "            print(f\"❌ Could not read {filename}\")\n",
    "            continue\n",
    "        \n",
    "        gray = cv2.cvtColor(img, cv2.COLOR_BGR2GRAY)\n",
    "        equalized = cv2.equalizeHist(gray)\n",
    "        \n",
    "        # Save processed image\n",
    "        output_path = os.path.join(output_folder, os.path.splitext(filename)[0] + \"_upscaled.jpg\")\n",
    "        cv2.imwrite(output_path, equalized)\n",
    "        print(f\"✅ Processed: {filename} → {output_path}\")\n"
   ]
  },
  {
   "cell_type": "markdown",
   "id": "625536e9",
   "metadata": {},
   "source": [
    "# Barcode detection"
   ]
  },
  {
   "cell_type": "code",
   "execution_count": null,
   "id": "bef4e966",
   "metadata": {},
   "outputs": [],
   "source": [
    "import cv2\n",
    "import requests\n",
    "import os\n",
    "from PIL import Image\n",
    "import imagehash\n",
    "\n",
    "# --- Roboflow API Setup ---\n",
    "API_KEY = \"riK5t7eDoQp67Y2kXQGW\"\n",
    "MODEL_ID = \"barcode-detection-brbvg\"\n",
    "VERSION = \"2\"\n",
    "API_URL = f\"https://detect.roboflow.com/{MODEL_ID}/{VERSION}?api_key={API_KEY}\"\n",
    "\n",
    "# --- Video Input ---\n",
    "video_path = r\"C:\\Users\\Dell\\Downloads\\0506-1.mp4\"\n",
    "cap = cv2.VideoCapture(video_path)\n",
    "\n",
    "# --- Check video opened ---\n",
    "if not cap.isOpened():\n",
    "    print(\"[ERROR] Cannot open video.\")\n",
    "    exit()\n",
    "\n",
    "frame_count = 0\n",
    "frame_skip = 10  # Process every 10th frame for performance\n",
    "\n",
    "# Create folder for cropped images\n",
    "crop_dir = \"cropped\"\n",
    "os.makedirs(crop_dir, exist_ok=True)\n",
    "\n",
    "# Set to keep track of saved image hashes\n",
    "saved_hashes = []\n",
    "\n",
    "while cap.isOpened():\n",
    "    ret, frame = cap.read()\n",
    "    if not ret:\n",
    "        print(\"[ERROR] Could not read next frame. Exiting...\")\n",
    "        break\n",
    "\n",
    "    # Skip frames\n",
    "    if frame_count % frame_skip != 0:\n",
    "        frame_count += 1\n",
    "        continue\n",
    "\n",
    "    # Resize for API\n",
    "    resized = cv2.resize(frame, (640, 480))\n",
    "\n",
    "    # Save resized frame temporarily\n",
    "    temp_image_path = \"temp.jpg\"\n",
    "    cv2.imwrite(temp_image_path, resized)\n",
    "\n",
    "    # Send to Roboflow API\n",
    "    try:\n",
    "        with open(temp_image_path, \"rb\") as img_file:\n",
    "            response = requests.post(API_URL, files={\"file\": img_file})\n",
    "        data = response.json()\n",
    "        predictions = data.get(\"predictions\", [])\n",
    "        print(f\"[OK] Frame {frame_count}: {len(predictions)} barcode(s) found.\")\n",
    "    except Exception as e:\n",
    "        print(\"[ERROR] API call failed:\", e)\n",
    "        break\n",
    "\n",
    "    # Delete temp file\n",
    "    if os.path.exists(temp_image_path):\n",
    "        os.remove(temp_image_path)\n",
    "\n",
    "    # Process predictions\n",
    "    for i, pred in enumerate(predictions):\n",
    "        x = int(pred[\"x\"])\n",
    "        y = int(pred[\"y\"])\n",
    "        w = int(pred[\"width\"])\n",
    "        h = int(pred[\"height\"])\n",
    "        label = pred[\"class\"]\n",
    "\n",
    "        # Coordinates\n",
    "        x1 = max(0, x - w // 2)\n",
    "        y1 = max(0, y - h // 2)\n",
    "        x2 = min(resized.shape[1], x + w // 2)\n",
    "        y2 = min(resized.shape[0], y + h // 2)\n",
    "\n",
    "        # Crop region\n",
    "        cropped = resized[y1:y2, x1:x2]\n",
    "        if cropped.size == 0:\n",
    "            continue  # Skip invalid crops\n",
    "\n",
    "        # Convert to PIL and compute hash\n",
    "        pil_img = Image.fromarray(cropped)\n",
    "        crop_hash = imagehash.average_hash(pil_img)\n",
    "\n",
    "        # Fuzzy deduplication: allow some small differences\n",
    "        is_unique = all(abs(crop_hash - existing_hash) > 5 for existing_hash in saved_hashes)\n",
    "\n",
    "        if is_unique:\n",
    "            saved_hashes.append(crop_hash)\n",
    "            cropped_filename = os.path.join(crop_dir, f\"barcode_{frame_count}_{i}.jpg\")\n",
    "            pil_img.save(cropped_filename)\n",
    "            print(f\"[CROP] Saved: {cropped_filename}\")\n",
    "        else:\n",
    "            print(\"[SKIP] Similar barcode already saved.\")\n",
    "\n",
    "        # Draw bounding box\n",
    "        cv2.rectangle(resized, (x1, y1), (x2, y2), (0, 255, 0), 2)\n",
    "        cv2.putText(resized, label, (x1, y1 - 10),\n",
    "                    cv2.FONT_HERSHEY_SIMPLEX, 0.6, (0, 255, 0), 2)\n",
    "\n",
    "    # Show result\n",
    "    cv2.imshow(\"Barcode Detection\", resized)\n",
    "\n",
    "    if cv2.waitKey(1) & 0xFF == ord('q'):\n",
    "        print(\"[STOP] Stopped by user.\")\n",
    "        break\n",
    "\n",
    "    frame_count += 1\n",
    "\n",
    "cap.release()\n",
    "cv2.destroyAllWindows()\n",
    "print(\"[DONE] Finished video.\")\n"
   ]
  }
 ],
 "metadata": {
  "kernelspec": {
   "display_name": "Python 3",
   "language": "python",
   "name": "python3"
  },
  "language_info": {
   "codemirror_mode": {
    "name": "ipython",
    "version": 3
   },
   "file_extension": ".py",
   "mimetype": "text/x-python",
   "name": "python",
   "nbconvert_exporter": "python",
   "pygments_lexer": "ipython3",
   "version": "3.12.0"
  }
 },
 "nbformat": 4,
 "nbformat_minor": 5
}
