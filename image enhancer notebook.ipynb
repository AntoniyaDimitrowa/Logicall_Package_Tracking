{
 "cells": [
  {
   "cell_type": "code",
   "execution_count": 1,
   "id": "91628d9c",
   "metadata": {},
   "outputs": [],
   "source": [
    "import cv2"
   ]
  },
  {
   "cell_type": "code",
   "execution_count": 3,
   "id": "4e1ad19b",
   "metadata": {},
   "outputs": [
    {
     "data": {
      "text/plain": [
       "True"
      ]
     },
     "execution_count": 3,
     "metadata": {},
     "output_type": "execute_result"
    }
   ],
   "source": [
    "# Load image\n",
    "img = cv2.imread(\"C:/Users/migue/OneDrive/Ambiente de Trabalho/SEMESTER 4 - AI/Group Project/IMAGES TO TEST SHARPNESS/IMAGE3.jpg\")\n",
    "\n",
    "# Convert to grayscale\n",
    "gray = cv2.cvtColor(img, cv2.COLOR_BGR2GRAY)\n",
    "\n",
    "# Increase contrast using Histogram Equalization\n",
    "equalized = cv2.equalizeHist(gray)\n",
    "\n",
    "# Apply a sharpening kernel\n",
    "kernel = cv2.getStructuringElement(cv2.MORPH_RECT, (3,3))\n",
    "sharp = cv2.filter2D(equalized, -1, kernel)\n",
    "\n",
    "# Save the result\n",
    "cv2.imwrite(\"C:/Users/migue/OneDrive/Ambiente de Trabalho/SEMESTER 4 - AI/Group Project/IMAGES TO TEST SHARPNESS/IMAGE3_ENHANCED.jpg\", sharp)"
   ]
  },
  {
   "cell_type": "markdown",
   "id": "01df257c",
   "metadata": {},
   "source": [
    "# ✅Good Model to Upscale"
   ]
  },
  {
   "cell_type": "markdown",
   "id": "dfd8ff81",
   "metadata": {},
   "source": [
    "Model name is Upscayl"
   ]
  },
  {
   "cell_type": "code",
   "execution_count": 11,
   "id": "537ee28d",
   "metadata": {},
   "outputs": [
    {
     "data": {
      "text/plain": [
       "True"
      ]
     },
     "execution_count": 11,
     "metadata": {},
     "output_type": "execute_result"
    }
   ],
   "source": [
    "import cv2\n",
    "\n",
    "img = cv2.imread(\"C:/Users/migue/OneDrive/Ambiente de Trabalho/SEMESTER 4 - AI/Group Project/IMAGES TO TEST SHARPNESS/IMAGE3_upscayl_5x_upscayl-lite-4x.png\")\n",
    "gray = cv2.cvtColor(img, cv2.COLOR_BGR2GRAY)\n",
    "equalized = cv2.equalizeHist(gray)\n",
    "cv2.imwrite(\"C:/Users/migue/OneDrive/Ambiente de Trabalho/SEMESTER 4 - AI/Group Project/IMAGES TO TEST SHARPNESS/IMAGE3_upscayl_upscaled.png\", equalized)\n",
    "\n"
   ]
  },
  {
   "cell_type": "markdown",
   "id": "fd228491",
   "metadata": {},
   "source": [
    "## Testing"
   ]
  },
  {
   "cell_type": "code",
   "execution_count": 12,
   "id": "630dd7ed",
   "metadata": {},
   "outputs": [
    {
     "name": "stdout",
     "output_type": "stream",
     "text": [
      "✅ Processed: IMAGE1.jpg → C:/Users/migue/OneDrive/Ambiente de Trabalho/SEMESTER 4 - AI/Group Project/UPSCAYL/Preprocessed\\IMAGE1_upscaled.jpg\n",
      "✅ Processed: IMAGE2.jpg → C:/Users/migue/OneDrive/Ambiente de Trabalho/SEMESTER 4 - AI/Group Project/UPSCAYL/Preprocessed\\IMAGE2_upscaled.jpg\n",
      "✅ Processed: IMAGE3.jpg → C:/Users/migue/OneDrive/Ambiente de Trabalho/SEMESTER 4 - AI/Group Project/UPSCAYL/Preprocessed\\IMAGE3_upscaled.jpg\n",
      "✅ Processed: IMAGE4.jpg → C:/Users/migue/OneDrive/Ambiente de Trabalho/SEMESTER 4 - AI/Group Project/UPSCAYL/Preprocessed\\IMAGE4_upscaled.jpg\n"
     ]
    }
   ],
   "source": [
    "import cv2\n",
    "import os\n",
    "\n",
    "# Set your folder with original barcode images\n",
    "input_folder = \"C:/Users/migue/OneDrive/Ambiente de Trabalho/SEMESTER 4 - AI/Group Project/UPSCAYL/Barcodes\"        # Change this to your folder name\n",
    "output_folder = \"C:/Users/migue/OneDrive/Ambiente de Trabalho/SEMESTER 4 - AI/Group Project/UPSCAYL/Preprocessed\"   # Folder where processed images will be saved\n",
    "\n",
    "# Create output folder if it doesn't exist\n",
    "os.makedirs(output_folder, exist_ok=True)\n",
    "\n",
    "# Supported image types\n",
    "valid_extensions = [\".jpg\", \".jpeg\", \".png\", \".bmp\"]\n",
    "\n",
    "# Loop through all files\n",
    "for filename in os.listdir(input_folder):\n",
    "    if any(filename.lower().endswith(ext) for ext in valid_extensions):\n",
    "        img_path = os.path.join(input_folder, filename)\n",
    "        img = cv2.imread(img_path)\n",
    "        \n",
    "        if img is None:\n",
    "            print(f\"❌ Could not read {filename}\")\n",
    "            continue\n",
    "        \n",
    "        gray = cv2.cvtColor(img, cv2.COLOR_BGR2GRAY)\n",
    "        equalized = cv2.equalizeHist(gray)\n",
    "        \n",
    "        # Save processed image\n",
    "        output_path = os.path.join(output_folder, os.path.splitext(filename)[0] + \"_upscaled.jpg\")\n",
    "        cv2.imwrite(output_path, equalized)\n",
    "        print(f\"✅ Processed: {filename} → {output_path}\")\n"
   ]
  }
 ],
 "metadata": {
  "kernelspec": {
   "display_name": "Python 3",
   "language": "python",
   "name": "python3"
  },
  "language_info": {
   "codemirror_mode": {
    "name": "ipython",
    "version": 3
   },
   "file_extension": ".py",
   "mimetype": "text/x-python",
   "name": "python",
   "nbconvert_exporter": "python",
   "pygments_lexer": "ipython3",
   "version": "3.12.0"
  }
 },
 "nbformat": 4,
 "nbformat_minor": 5
}
